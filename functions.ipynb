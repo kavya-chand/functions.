{
  "nbformat": 4,
  "nbformat_minor": 0,
  "metadata": {
    "colab": {
      "provenance": []
    },
    "kernelspec": {
      "name": "python3",
      "display_name": "Python 3"
    },
    "language_info": {
      "name": "python"
    }
  },
  "cells": [
    {
      "cell_type": "markdown",
      "source": [
        "#FUNCTIONS"
      ],
      "metadata": {
        "id": "OXaDv2rikyND"
      }
    },
    {
      "cell_type": "markdown",
      "source": [
        "# THEORY QUEATIONS"
      ],
      "metadata": {
        "id": "lo-g3ni28Xsr"
      }
    },
    {
      "cell_type": "markdown",
      "source": [
        "1. What is difference between a function and a method in python?\n",
        "\n",
        "  ->>function is a block of code which performs specific task . they are reusable, neat, clean and organised.\n",
        "  \n",
        "  ->>Method are functions that are associated with an object or a class in python programming.\n"
      ],
      "metadata": {
        "id": "5234m2I2k5OR"
      }
    },
    {
      "cell_type": "code",
      "source": [
        "#method\n",
        "class ABC:\n",
        "  def method(self):\n",
        "    print(\"Iam in method_ABC class.\")\n",
        "class_ref = ABC()\n",
        "class_ref.method()"
      ],
      "metadata": {
        "colab": {
          "base_uri": "https://localhost:8080/"
        },
        "id": "b_1EsuIqXDh6",
        "outputId": "678e33f0-586f-4760-c9d8-46a7a22375df"
      },
      "execution_count": 2,
      "outputs": [
        {
          "output_type": "stream",
          "name": "stdout",
          "text": [
            "Iam in method_ABC class.\n"
          ]
        }
      ]
    },
    {
      "cell_type": "code",
      "source": [
        "#function\n",
        "def subtract(a,b):\n",
        "  return(a-b)"
      ],
      "metadata": {
        "id": "uL-80EdNM_0H"
      },
      "execution_count": 3,
      "outputs": []
    },
    {
      "cell_type": "code",
      "source": [
        "print(subtract(15,6))"
      ],
      "metadata": {
        "colab": {
          "base_uri": "https://localhost:8080/"
        },
        "id": "oUmY-vNxNafd",
        "outputId": "f3339283-c361-48cd-b21f-ef5e5295624d"
      },
      "execution_count": 4,
      "outputs": [
        {
          "output_type": "stream",
          "name": "stdout",
          "text": [
            "9\n"
          ]
        }
      ]
    },
    {
      "cell_type": "markdown",
      "source": [
        "  2. Explain the concept of function arguments and parameters inPython.\n",
        "\n",
        "     ->>Function arguments are value that you provide to a function when you can call it, these can be used by funtion to perform tasks.\n",
        "     ->>Parameter allow functions to recieve values from a function call, Parameters can be of any type, including integers, floats, strings, lists, and even functions."
      ],
      "metadata": {
        "id": "2Z2t3E10YQG0"
      }
    },
    {
      "cell_type": "code",
      "source": [
        "#here a and b are called parameters\n",
        "\n",
        "def sum_(a,b):\n",
        "  print(a+b)"
      ],
      "metadata": {
        "id": "V7tVigtIhDHl"
      },
      "execution_count": 63,
      "outputs": []
    },
    {
      "cell_type": "code",
      "source": [
        "sum_(7,9)"
      ],
      "metadata": {
        "colab": {
          "base_uri": "https://localhost:8080/"
        },
        "id": "FatfV_Wuh_Og",
        "outputId": "5f8aae61-4fd6-45bf-8735-050565a80e4f"
      },
      "execution_count": 64,
      "outputs": [
        {
          "output_type": "stream",
          "name": "stdout",
          "text": [
            "16\n"
          ]
        }
      ]
    },
    {
      "cell_type": "code",
      "source": [
        "def sum(a,b):\n",
        "  print(a+b)"
      ],
      "metadata": {
        "id": "5Hwn4qfTlncI"
      },
      "execution_count": 65,
      "outputs": []
    },
    {
      "cell_type": "code",
      "source": [
        "#here the value 1,2 are arguments\n",
        "sum(1,2)"
      ],
      "metadata": {
        "colab": {
          "base_uri": "https://localhost:8080/"
        },
        "id": "XMLw6YCPmO-n",
        "outputId": "371e6cdc-8390-4e7a-b243-1ae9ac9b9815"
      },
      "execution_count": 66,
      "outputs": [
        {
          "output_type": "stream",
          "name": "stdout",
          "text": [
            "3\n"
          ]
        }
      ]
    },
    {
      "cell_type": "markdown",
      "source": [
        "3.What are the different ways to define and call a function in python?\n",
        "\n",
        "  ->>to define a function using def keyword followed by the function name, parentheses for parameters, and colon,then indent the function body.\n",
        "  \n",
        "  ->>to call a function, simply type its name followed by parentheses with any necessary arguments inside them."
      ],
      "metadata": {
        "id": "hYXRaWhPZriQ"
      }
    },
    {
      "cell_type": "code",
      "source": [
        "def greet(name):\n",
        "  print(f\"Hello, {name}!\")"
      ],
      "metadata": {
        "id": "k52VDImCUig1"
      },
      "execution_count": 67,
      "outputs": []
    },
    {
      "cell_type": "code",
      "source": [
        "greet(\"Alice\")"
      ],
      "metadata": {
        "colab": {
          "base_uri": "https://localhost:8080/"
        },
        "id": "lv4yM4pqU8OA",
        "outputId": "3979df80-34f4-4d76-d40e-e1c4c379ac18"
      },
      "execution_count": 68,
      "outputs": [
        {
          "output_type": "stream",
          "name": "stdout",
          "text": [
            "Hello, Alice!\n"
          ]
        }
      ]
    },
    {
      "cell_type": "code",
      "source": [
        " def calculate_area(length, width):\n",
        "  area = length * width\n",
        "  return area\n",
        ""
      ],
      "metadata": {
        "id": "O_YuODsRVYD7"
      },
      "execution_count": 69,
      "outputs": []
    },
    {
      "cell_type": "code",
      "source": [
        "result1 = calculate_area(5, 3)\n",
        "print(result1)"
      ],
      "metadata": {
        "colab": {
          "base_uri": "https://localhost:8080/"
        },
        "id": "1GQUhx2OV0Ms",
        "outputId": "ad2c8cdd-7612-400d-e9aa-a80b262b05ce"
      },
      "execution_count": 70,
      "outputs": [
        {
          "output_type": "stream",
          "name": "stdout",
          "text": [
            "15\n"
          ]
        }
      ]
    },
    {
      "cell_type": "markdown",
      "source": [
        "4.What is a purpose of \"return\" statement in python?\n",
        "\n",
        "  ->>The python return statement marks the end of a funtion and specifies the\n",
        "  value or value to pass back from the function. it can return the data of any type including integers, floats, strings and even other functions."
      ],
      "metadata": {
        "id": "j9xoMQI0WG0o"
      }
    },
    {
      "cell_type": "code",
      "source": [
        "def details_2():\n",
        "  name = input(\"enter your name:\")\n",
        "  country = input(\"enter your country:\")\n",
        "  return name, country\n",
        ""
      ],
      "metadata": {
        "id": "fPOTHwP3m3fg"
      },
      "execution_count": 71,
      "outputs": []
    },
    {
      "cell_type": "code",
      "source": [
        "#function calling\n",
        "details_2()"
      ],
      "metadata": {
        "colab": {
          "base_uri": "https://localhost:8080/"
        },
        "id": "SgurTIdlor_9",
        "outputId": "0cbbef85-6d9a-4085-f137-ca38b410765a"
      },
      "execution_count": null,
      "outputs": [
        {
          "name": "stdout",
          "output_type": "stream",
          "text": [
            "enter your name:kavya\n"
          ]
        }
      ]
    },
    {
      "cell_type": "markdown",
      "source": [
        "5.What is iterators in python and how do they differ from iterables?\n",
        "\n",
        "  ->>An Iterable is basically an object that any user can iterate over.\n",
        "\n",
        "  ->>An Iterator is also an object that can helps a user in iterating over another object."
      ],
      "metadata": {
        "id": "0BJvtDbcYJ2V"
      }
    },
    {
      "cell_type": "code",
      "source": [
        "mytuple = (\"apple\", \"banana\", \"cherry\")\n",
        "myit = iter(mytuple)"
      ],
      "metadata": {
        "id": "cbzPTPZlo8OP"
      },
      "execution_count": null,
      "outputs": []
    },
    {
      "cell_type": "code",
      "source": [
        "print(next(myit))"
      ],
      "metadata": {
        "id": "Teb5veb9oX3l"
      },
      "execution_count": null,
      "outputs": []
    },
    {
      "cell_type": "code",
      "source": [
        "print(next(myit))"
      ],
      "metadata": {
        "id": "m2ZTlPElqBQy"
      },
      "execution_count": null,
      "outputs": []
    },
    {
      "cell_type": "code",
      "source": [
        "print(next(myit))"
      ],
      "metadata": {
        "id": "spEUb9wdqE_n"
      },
      "execution_count": null,
      "outputs": []
    },
    {
      "cell_type": "code",
      "source": [
        "mystr = \"kavya\"\n",
        "myit = iter(mystr)"
      ],
      "metadata": {
        "id": "dhaLq7TjsHBx"
      },
      "execution_count": null,
      "outputs": []
    },
    {
      "cell_type": "code",
      "source": [
        "print(next(myit))\n",
        "print(next(myit))\n",
        "print(next(myit))\n",
        "print(next(myit))\n",
        "print(next(myit))"
      ],
      "metadata": {
        "id": "5VwBEjPpsVaY"
      },
      "execution_count": null,
      "outputs": []
    },
    {
      "cell_type": "markdown",
      "source": [],
      "metadata": {
        "id": "V85XujfuYPFb"
      }
    },
    {
      "cell_type": "markdown",
      "source": [
        "6.Explain the concept of generators in python and how they are defined.\n",
        "\n",
        "  ->>Generator functions in Python are a way to create iterators in a more concise and memory-efficient manner.\n",
        "  \n",
        "  ->>A function or expression that will process a given iterable one object at a time, on demand.A Generator object, which can be cast as a list or some other data structure as appropriate.\n"
      ],
      "metadata": {
        "id": "ovAaIdwcsqWc"
      }
    },
    {
      "cell_type": "code",
      "source": [
        "def pw_skills_generator():\n",
        "  yield \"Python\"\n",
        "  yield \"Web Development\"\n",
        "  yield \"Problem Solving\"\n",
        "  yield \"Debugging\""
      ],
      "metadata": {
        "id": "zpJIjDXbwgJr"
      },
      "execution_count": null,
      "outputs": []
    },
    {
      "cell_type": "code",
      "source": [
        "#usage\n",
        "for skill in pw_skills_generator():\n",
        "    print(f\"Learn: {skill}\")"
      ],
      "metadata": {
        "id": "J0Zxl7b4w8Bw"
      },
      "execution_count": null,
      "outputs": []
    },
    {
      "cell_type": "markdown",
      "source": [
        "7.What are the advantage of using generators over regular functions?\n",
        "\n",
        "  ->>Generator are more efficient than loop for data processing or calculations. they are more redable than traditional for loops, as their syntax is cleaner and more straightforward."
      ],
      "metadata": {
        "id": "llpZC03GxoAF"
      }
    },
    {
      "cell_type": "markdown",
      "source": [
        "8.What is lamda function in python and when it is typically used?\n",
        "\n",
        "  ->>It is a concise way to create anonymous functions. they often used for short term operations and are defined as single line.\n",
        "\n",
        "  _>>It is used whenever you want to create a function that will only contain simple expressions - that is expressions that are single line of a statement."
      ],
      "metadata": {
        "id": "yIQGp0j7y1o3"
      }
    },
    {
      "cell_type": "markdown",
      "source": [
        "9.Explain the purpose and usage of \"map()\" function in python.\n",
        "\n",
        "  ->>It executes a specified function for each item in an iterable. the item is sent to the function as parameter.\n",
        "   purpose is it applies a function to all item in an iterable and supports a functional programmng style.\n",
        "   its usage is it pass the iterable and function as arguments to map functions and convert the map object to a sequence object, like a list or tuple."
      ],
      "metadata": {
        "id": "8WR11ZAK0GDE"
      }
    },
    {
      "cell_type": "code",
      "source": [
        "numbers_as_strings = {\"1\",\"2\",\"3\",\"4\"}\n",
        "numbers_as_integers = list(map(int, numbers_as_strings))\n",
        "print(numbers_as_integers)"
      ],
      "metadata": {
        "id": "O7UDvGmt2fby"
      },
      "execution_count": null,
      "outputs": []
    },
    {
      "cell_type": "markdown",
      "source": [
        "10.What is difference between'map()','reduce()',and 'filter()' functions in python?\n",
        "\n",
        "   ->>'map' applies a function to every element in a sequence, transforming each element individually.\n",
        "    \n",
        "   ->>'filter' selects elements from sequence based on a condition, essentially keeping only the elements that satisfy a given criteria, effectively filtering out rest.\n",
        "\n",
        "   ->>'reduce' combines all elements of sequence into a single value using a cumulative operation."
      ],
      "metadata": {
        "id": "aja_e1v83PFR"
      }
    },
    {
      "cell_type": "markdown",
      "source": [
        "11.Using pen and paper write the internal mechanism for sum operation using reduce functions on given list:[47,11,42,13];"
      ],
      "metadata": {
        "id": "ygkKHXlq6M56"
      }
    },
    {
      "cell_type": "markdown",
      "source": [
        "# PRACTICAL QUESTIONS:"
      ],
      "metadata": {
        "id": "ERMKwUGR8NEa"
      }
    },
    {
      "cell_type": "markdown",
      "source": [
        "1. Write python function that takes a list of numbers s input and returns the sum of all even numbers in list."
      ],
      "metadata": {
        "id": "zabw3Cbf8he-"
      }
    },
    {
      "cell_type": "code",
      "source": [
        "mylist=[1,2,3,4,5,6,7,8,10]\n",
        "evensum=0\n",
        "for x in mylist:\n",
        "  if x%2==0:\n",
        "    evensum=evensum+x"
      ],
      "metadata": {
        "id": "0DDu0vxyB8aK"
      },
      "execution_count": 43,
      "outputs": []
    },
    {
      "cell_type": "code",
      "source": [
        "print(\"sum of even numbers=\",sum)"
      ],
      "metadata": {
        "colab": {
          "base_uri": "https://localhost:8080/"
        },
        "id": "40A9x_s0C0i8",
        "outputId": "35a1372e-5304-4759-8b7c-c07fad6c7dbe"
      },
      "execution_count": 5,
      "outputs": [
        {
          "output_type": "stream",
          "name": "stdout",
          "text": [
            "sum of even numbers= <built-in function sum>\n"
          ]
        }
      ]
    },
    {
      "cell_type": "markdown",
      "source": [
        "2.create a python function that accepts string and returns the reverse of that\n",
        "  string."
      ],
      "metadata": {
        "id": "5UK-IyRsBche"
      }
    },
    {
      "cell_type": "code",
      "source": [
        "s = \"kavyachand\"\n",
        "rev = s[::-1]\n",
        "print(rev)"
      ],
      "metadata": {
        "colab": {
          "base_uri": "https://localhost:8080/"
        },
        "id": "GZ21SkCBOfBF",
        "outputId": "1f04398b-2b55-4536-ce40-4d276b336f13"
      },
      "execution_count": 5,
      "outputs": [
        {
          "output_type": "stream",
          "name": "stdout",
          "text": [
            "dnahcayvak\n"
          ]
        }
      ]
    },
    {
      "cell_type": "markdown",
      "source": [
        "3.implemet a python function that takes a list of integers and return a new  \n",
        "  list containing the square of each number."
      ],
      "metadata": {
        "id": "Ljmg5TDbEvsf"
      }
    },
    {
      "cell_type": "code",
      "source": [
        "orignal_list = [2, 5, 1, 3, 6, 8, 4]\n",
        "squared_list = [x**2 for x in orignal_list]\n",
        "print(squared_list)"
      ],
      "metadata": {
        "colab": {
          "base_uri": "https://localhost:8080/"
        },
        "id": "25lFpzy_OwG9",
        "outputId": "85e73018-379b-479e-c5e7-5bc03c7a9b5e"
      },
      "execution_count": 7,
      "outputs": [
        {
          "output_type": "stream",
          "name": "stdout",
          "text": [
            "[4, 25, 1, 9, 36, 64, 16]\n"
          ]
        }
      ]
    },
    {
      "cell_type": "markdown",
      "source": [
        "4.Write a python function that cheks if a given number is prime or not from    \n",
        "  1-200."
      ],
      "metadata": {
        "id": "B-TroW1DFCns"
      }
    },
    {
      "cell_type": "code",
      "source": [
        "\n",
        "num = int(input(\"enter a number:\"))\n",
        "count = 0\n",
        "for i in range(1,num+1):\n",
        "  if num % i == 0:\n",
        "    count = count + 1\n",
        "    if count == 2:\n",
        "      print(num,\"is a prime number\")\n",
        "    else:\n",
        "      print(num,\"is not prime number\")"
      ],
      "metadata": {
        "colab": {
          "base_uri": "https://localhost:8080/"
        },
        "id": "bwXnMMSYPiIb",
        "outputId": "59f86810-40b4-4de1-c1da-4b047a1692de"
      },
      "execution_count": 48,
      "outputs": [
        {
          "output_type": "stream",
          "name": "stdout",
          "text": [
            "enter a number:5\n",
            "5 is not prime number\n",
            "5 is a prime number\n"
          ]
        }
      ]
    },
    {
      "cell_type": "markdown",
      "source": [
        "5.create an iterator class in python that generates the fibonacci sequence up to a specified number of terms.\n"
      ],
      "metadata": {
        "id": "SZHQhGTRGHOj"
      }
    },
    {
      "cell_type": "code",
      "source": [
        "def fibonacci(n):\n",
        "\n",
        "  l = [0,1]\n",
        "  for i in range(2, n):\n",
        "    l.append(l[-1]+l[-2])\n",
        "  return l\n",
        "\n",
        "  if __name__==\"__main__\":\n",
        "    n = 10\n",
        "    #calling of function\n",
        "    fibo = fibonacci(n)"
      ],
      "metadata": {
        "id": "ZE_twEPVeEPc"
      },
      "execution_count": 32,
      "outputs": []
    },
    {
      "cell_type": "code",
      "source": [
        "def fibonacci_generator():\n",
        "  a, b = 0, 1\n",
        "  while True:\n",
        "    yield a\n",
        "    a, b = b, a + b\n",
        "\n",
        "  fib_gen = fibonacci_generator()\n",
        "  for _ in range(10):\n",
        "    print(next(fib_gen))"
      ],
      "metadata": {
        "id": "76y2QTnccUMI"
      },
      "execution_count": 38,
      "outputs": []
    },
    {
      "cell_type": "markdown",
      "source": [
        "6.write a generator function in python that yield the powers of 2 up to given exponent."
      ],
      "metadata": {
        "id": "XjNDmT15GXqz"
      }
    },
    {
      "cell_type": "code",
      "source": [
        "def power_generator(base, exponent):\n",
        "  result = 1\n",
        "  for i in range(exponent + 1):\n",
        "    yield result\n",
        "    result *= base"
      ],
      "metadata": {
        "id": "8OjMfIYDh_bA"
      },
      "execution_count": 39,
      "outputs": []
    },
    {
      "cell_type": "code",
      "source": [
        "base = int(input(\"Input the base value:\"))\n",
        "exponent = int(input(\"Input the exponent:\"))\n",
        "for power in power_generator(base, exponent):\n",
        "  print(power)"
      ],
      "metadata": {
        "colab": {
          "base_uri": "https://localhost:8080/"
        },
        "id": "irv4IpAsifuc",
        "outputId": "00212ac2-831d-4d20-fde5-a8f010a725cf"
      },
      "execution_count": 41,
      "outputs": [
        {
          "output_type": "stream",
          "name": "stdout",
          "text": [
            "Input the base value:2\n",
            "Input the exponent:5\n",
            "1\n",
            "2\n",
            "4\n",
            "8\n",
            "16\n",
            "32\n"
          ]
        }
      ]
    },
    {
      "cell_type": "markdown",
      "source": [
        "7.implement a generator function that reads a file line and yields each line as string."
      ],
      "metadata": {
        "id": "8YKSUymiGszP"
      }
    },
    {
      "cell_type": "code",
      "source": [
        "def read_file_lines(file_path):\n",
        "  with open(file_path, 'r') as file:\n",
        "    for line in file:\n",
        "      yield line.strip()"
      ],
      "metadata": {
        "id": "7RSVgDYEjV2d"
      },
      "execution_count": 42,
      "outputs": []
    },
    {
      "cell_type": "markdown",
      "source": [
        "8.Use a lambda function in python to sort a list of tuples based on the second element of each tuple."
      ],
      "metadata": {
        "id": "CPc2KhfLHFxL"
      }
    },
    {
      "cell_type": "code",
      "source": [
        "#list of tuples named 'subject marks',each tuples containing a subject and its corresponding marks\n",
        "subject_marks = [('English',58), ('Science',78), ('Social science',50),('Maths',66)]\n",
        "\n",
        "#display orignal list of tuples to console\n",
        "print(\"orignal list of tuples to console:\")\n",
        "print(subject_marks)\n",
        "subject_marks.sort(key = lambda x: x[1])\n",
        "print(\"\\nSorting the list of tuples:\")\n",
        "print(subject_marks)\n",
        "print(\"orignal list of tuples:\")\n",
        "print(subject_marks)\n",
        "subject_marks.sort(key = lambda x: x[1])\n",
        "print(\"\\nSorting the list of tuples:\")\n",
        "print(subject_marks)"
      ],
      "metadata": {
        "colab": {
          "base_uri": "https://localhost:8080/"
        },
        "id": "sfkM7zr7Y4je",
        "outputId": "abb39cee-f59c-4ef0-cd11-d719c615a529"
      },
      "execution_count": 18,
      "outputs": [
        {
          "output_type": "stream",
          "name": "stdout",
          "text": [
            "orignal list of tuples to console:\n",
            "[('English', 58), ('Science', 78), ('Social science', 50), ('Maths', 66)]\n",
            "\n",
            "Sorting the list of tuples:\n",
            "[('Social science', 50), ('English', 58), ('Maths', 66), ('Science', 78)]\n",
            "orignal list of tuples:\n",
            "[('Social science', 50), ('English', 58), ('Maths', 66), ('Science', 78)]\n",
            "\n",
            "Sorting the list of tuples:\n",
            "[('Social science', 50), ('English', 58), ('Maths', 66), ('Science', 78)]\n"
          ]
        }
      ]
    },
    {
      "cell_type": "markdown",
      "source": [
        "9.write a python program that uses 'map()' to convert a list of tempersture to celcius to fahrenheit."
      ],
      "metadata": {
        "id": "1yVYrN3nHe6-"
      }
    },
    {
      "cell_type": "code",
      "source": [
        "#temperature in celcius degree\n",
        "celcius = 47\n",
        "\n",
        "#converting the temperature to\n",
        "#Fehrenheit using the formula\n",
        "fehrenheit = (celcius * 1.8) + 32\n",
        "\n",
        "#printing the result\n",
        "print(str(celcius) + \"degree celcius equal to\" + str(fehrenheit)+\"degree fehrenheit\")"
      ],
      "metadata": {
        "colab": {
          "base_uri": "https://localhost:8080/"
        },
        "id": "mM2mqPJOVnbz",
        "outputId": "7bcb0abd-bc87-47c5-a740-ccbb7e2d57fa"
      },
      "execution_count": 17,
      "outputs": [
        {
          "output_type": "stream",
          "name": "stdout",
          "text": [
            "47degree celcius equal to116.60000000000001degree fehrenheit\n"
          ]
        }
      ]
    },
    {
      "cell_type": "markdown",
      "source": [
        "10. create a python program that uses 'filter()'to remove all the vowles from given string."
      ],
      "metadata": {
        "id": "8qGJ7sNIH0w6"
      }
    },
    {
      "cell_type": "code",
      "source": [
        "string = \"prepinsta\"\n",
        "vowels = ['a','e','i','o','u','A','E','I','O','U']\n",
        "Result =\"\"\n",
        "\n",
        "#use len(string) instead of Len(string)\n",
        "for i in range(len(string)):\n",
        "  if string[i] not in vowels:\n",
        "          Result = Result + string[i]\n",
        "          print(\"\\nAfter removing Vowels:\", Result)"
      ],
      "metadata": {
        "colab": {
          "base_uri": "https://localhost:8080/"
        },
        "id": "GGQPt0zNQLyM",
        "outputId": "2049eac9-0583-47d5-f6cf-ee8f629c201b"
      },
      "execution_count": 9,
      "outputs": [
        {
          "output_type": "stream",
          "name": "stdout",
          "text": [
            "\n",
            "After removing Vowels: p\n",
            "\n",
            "After removing Vowels: pr\n",
            "\n",
            "After removing Vowels: prp\n",
            "\n",
            "After removing Vowels: prpn\n",
            "\n",
            "After removing Vowels: prpns\n",
            "\n",
            "After removing Vowels: prpnst\n"
          ]
        }
      ]
    },
    {
      "cell_type": "markdown",
      "source": [
        "11. i,agine an accounting routine used in a book shop. it works on a list with sublists, which looks like this:\n",
        "\n",
        "     order number  book title and author             quantity  price per item\n",
        "          \n",
        "     34587         learning python, mark lutz          4        40.95\n",
        "\n",
        "     98762         programming python, mark lutz       5        56.80\n",
        "\n",
        "     77226         head first python, paul barry       3        32.95\n",
        "\n",
        "     88112         einfuhrung in python3, bernd klein  3        24.99\n",
        "\n",
        "     write a python program, which returns a list with 2-tuples. each tuple consists of order number and the product of the price per item and quantity. the product should be increased by 10,-c if the value of the order is smaller than 100,00c.\n",
        "\n",
        "     write python program using lambda and map."
      ],
      "metadata": {
        "id": "DhwGKtLFIMmH"
      }
    }
  ]
}