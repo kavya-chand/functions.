{
  "nbformat": 4,
  "nbformat_minor": 0,
  "metadata": {
    "colab": {
      "provenance": [],
      "authorship_tag": "ABX9TyPeWubWsbZpqzCBcjwmuT3P",
      "include_colab_link": true
    },
    "kernelspec": {
      "name": "python3",
      "display_name": "Python 3"
    },
    "language_info": {
      "name": "python"
    }
  },
  "cells": [
    {
      "cell_type": "markdown",
      "metadata": {
        "id": "view-in-github",
        "colab_type": "text"
      },
      "source": [
        "<a href=\"https://colab.research.google.com/github/kavya-chand/functions./blob/main/Untitled2.ipynb\" target=\"_parent\"><img src=\"https://colab.research.google.com/assets/colab-badge.svg\" alt=\"Open In Colab\"/></a>"
      ]
    },
    {
      "cell_type": "markdown",
      "source": [
        "1. What is Python, and why is it popular.\n",
        "\n",
        "->>Its a programming language because it's easy to learn, versatile and open source.\n"
      ],
      "metadata": {
        "id": "MvXdchR2RNlq"
      }
    },
    {
      "cell_type": "markdown",
      "source": [
        "2.What is an interpreter in Python.\n",
        "\n",
        "->>Its a program that reads and executes Python code. its translates python code to machine code."
      ],
      "metadata": {
        "id": "u74Lhw2vRr0X"
      }
    },
    {
      "cell_type": "markdown",
      "source": [
        "3.What are pre-defined keywords in Python?\n",
        "\n",
        "->>These are words with specific meaning that are part of Python syntax.They are case sensitive and cannot be changed.\n",
        "eg- def,else,continue etc."
      ],
      "metadata": {
        "id": "iN0LEUrSSN0S"
      }
    },
    {
      "cell_type": "markdown",
      "source": [
        "4.Can keywords be used as variable names.\n",
        "\n",
        "->>No, it cannot be used as variable names in Python. Keywods are not used to define the structure and syntax of Python language."
      ],
      "metadata": {
        "id": "ViTqiRRkTXPn"
      }
    },
    {
      "cell_type": "markdown",
      "source": [
        "5.What is mutability in Python?\n",
        "\n",
        "->>It refers to wheather an object's value can change after it's created.\n",
        "Mutable objects can be changed in place, which means that modifying an object in one part of a program can affect it in another part."
      ],
      "metadata": {
        "id": "JIzNBru_Uk58"
      }
    },
    {
      "cell_type": "markdown",
      "source": [
        "6.Why are lists mutable, but tuples are immutable ?\n",
        "\n",
        " ->>Because existing value in list can be changed. but you cannot change the same value if stored in the tuple."
      ],
      "metadata": {
        "id": "rT-cV2fkVcZX"
      }
    },
    {
      "cell_type": "markdown",
      "source": [
        "7.What is the difference between “==” and “is” operators in Python?\n",
        "\n",
        "->>'is' is termed at identify operator, it is used to check if different variable are pointing to the same objects in memory.\n",
        "The == operator is used to compare the equality of objects it is used in python when value of the operators are equal."
      ],
      "metadata": {
        "id": "ArL9Z4BeV7ev"
      }
    },
    {
      "cell_type": "markdown",
      "source": [
        "8. What are logical operators in Python ?\n",
        "\n",
        "->>They are keywods that combine and evaluate multiple conditions.\n",
        "eg- and, or, return"
      ],
      "metadata": {
        "id": "jjD5qZpvXRgp"
      }
    },
    {
      "cell_type": "markdown",
      "source": [
        "9. What is type casting in Python?\n",
        "\n",
        "->>The process of explicitly converting a variable's data type to another data type using built-in functions like int() , float() , or str(),\n",
        "4"
      ],
      "metadata": {
        "id": "B9dnIqbIX8IG"
      }
    },
    {
      "cell_type": "markdown",
      "source": [
        "10. What is the difference between implicit and explicit type casting ?\n",
        "\n",
        "->>Implicit type casting :-Implicit type casting is concise and can be used to ensure compatibility and prevent data loss .\n",
        "\n",
        "\n",
        "  - Occurs when Python automatically changes one data type to another.\n",
        "\n",
        "  -Used to convert smaller data types to larger data types.\n",
        "\n",
        "  -Prevents data loss and errors.\n",
        "\n",
        "  -Often invisible to the user.\n",
        "\n",
        "->>Explicit type casting :-Explicit type casting is precise and can be used to manage data types and prevent unintended data loss or errors.\n",
        "\n",
        "  - Occurs when a programmer manually converts one data type to another.\n",
        "\n",
        "  -Requires the programmer to write code that instructs the compiler or interpreter to make a specific conversion.\n",
        "\n",
        "  -Visible in the source code .\n",
        "\n",
        "  -Provides more control over the data conversion process ."
      ],
      "metadata": {
        "id": "IClN0v8uUVyy"
      }
    },
    {
      "cell_type": "markdown",
      "source": [
        "11. What is the purpose of conditional statements in Python ?\n",
        "\n",
        "->>Conditional statements in Python control the flow of a program by executing certain blocks of code based on conditions. They help make code more efficient and easier to read."
      ],
      "metadata": {
        "id": "o1crMs0nYgLi"
      }
    },
    {
      "cell_type": "markdown",
      "source": [
        "12. How does the elif statement work ?\n",
        "\n",
        "->>The “elif” keyword in Python, stands for “else if”. It can be used in conditional statements to check for multiple conditions. For example, if the first condition is false, it moves on to the next “elif” statement to check if that condition is true."
      ],
      "metadata": {
        "id": "H08C-3L-Zpn7"
      }
    },
    {
      "cell_type": "markdown",
      "source": [
        "13.What is the difference between for and while loops?\n",
        "\n",
        "->>In programming, a for loop is used to repeat a block of code a known number of times, while a while loop repeats it an unknown number of times."
      ],
      "metadata": {
        "id": "kpl4s7IwaHTe"
      }
    },
    {
      "cell_type": "markdown",
      "source": [
        "14. Describe a scenario where a while loop is more suitable than a for loop.\n",
        "\n",
        "->>In contrast to a for' loop, which is generally used when the number of iterations is known beforehand, a 'while' loop is ideal for situations where the number of iterations is not predetermined and depends on some dynamic condition."
      ],
      "metadata": {
        "id": "9nZlHTWKbFfA"
      }
    },
    {
      "cell_type": "markdown",
      "source": [
        "# **Practical Questions**"
      ],
      "metadata": {
        "id": "h_b4-9rScb_3"
      }
    },
    {
      "cell_type": "markdown",
      "source": [
        "1. Write a Python program to print \"Hello, World!"
      ],
      "metadata": {
        "id": "-wVAUC76crK3"
      }
    },
    {
      "cell_type": "code",
      "source": [
        "print(\"Hello, World!\")"
      ],
      "metadata": {
        "colab": {
          "base_uri": "https://localhost:8080/"
        },
        "id": "x6dhMtmgczRy",
        "outputId": "1de5134a-005e-42d8-ef49-19b04788278a"
      },
      "execution_count": 1,
      "outputs": [
        {
          "output_type": "stream",
          "name": "stdout",
          "text": [
            "Hello, World!\n"
          ]
        }
      ]
    },
    {
      "cell_type": "markdown",
      "source": [
        "2. Write a Python program that displays your name and age."
      ],
      "metadata": {
        "id": "-v8AqrGbdOQg"
      }
    },
    {
      "cell_type": "code",
      "source": [
        "name = input('enter your name :')\n",
        "age = input('enter your age :')"
      ],
      "metadata": {
        "colab": {
          "base_uri": "https://localhost:8080/"
        },
        "id": "w8HLPg3edoXB",
        "outputId": "021f9998-68ad-4e63-969a-ed54a2496762"
      },
      "execution_count": 2,
      "outputs": [
        {
          "name": "stdout",
          "output_type": "stream",
          "text": [
            "enter your name :kavya\n",
            "enter your age :23\n"
          ]
        }
      ]
    },
    {
      "cell_type": "markdown",
      "source": [
        "3.Write code to print all the pre-defined keywords in Python using the keyword library."
      ],
      "metadata": {
        "id": "13H10sGuI0D7"
      }
    },
    {
      "cell_type": "code",
      "source": [
        "import keyword\n",
        "print(keyword.kwlist)"
      ],
      "metadata": {
        "colab": {
          "base_uri": "https://localhost:8080/"
        },
        "id": "qLnzgCUQI61A",
        "outputId": "59a76452-aed8-4ad6-997d-5aa607758eb4"
      },
      "execution_count": 5,
      "outputs": [
        {
          "output_type": "stream",
          "name": "stdout",
          "text": [
            "['False', 'None', 'True', 'and', 'as', 'assert', 'async', 'await', 'break', 'class', 'continue', 'def', 'del', 'elif', 'else', 'except', 'finally', 'for', 'from', 'global', 'if', 'import', 'in', 'is', 'lambda', 'nonlocal', 'not', 'or', 'pass', 'raise', 'return', 'try', 'while', 'with', 'yield']\n"
          ]
        }
      ]
    },
    {
      "cell_type": "markdown",
      "source": [
        "4.Write a program that checks if a given word is a Python keyword."
      ],
      "metadata": {
        "id": "8eZva5UjI7Sr"
      }
    },
    {
      "cell_type": "code",
      "source": [
        "s = \"for\"\n",
        "print(f\"'{s}' is a python keyword.\")\n",
        "#else:\n",
        "#  print(f\"'{s}' is not a python keyword.\")\n",
        ""
      ],
      "metadata": {
        "colab": {
          "base_uri": "https://localhost:8080/"
        },
        "id": "TXRHt8FoJFZX",
        "outputId": "78b708a4-883d-4852-fba8-8153d1f506c7"
      },
      "execution_count": 13,
      "outputs": [
        {
          "output_type": "stream",
          "name": "stdout",
          "text": [
            "'for' is a python keyword.\n"
          ]
        }
      ]
    },
    {
      "cell_type": "markdown",
      "source": [
        "5. Create a list and tuple in Python, and demonstrate how attempting to change an element works differently\n",
        "for each."
      ],
      "metadata": {
        "id": "0EP7kfKdJF7-"
      }
    },
    {
      "cell_type": "code",
      "source": [
        "x = (\"apple\", \"banana\", \"cherry\")\n",
        "y = list(x)\n",
        "y[1] = \"kiwi\"\n",
        "x = tuple(y)\n",
        "\n",
        "print(x)"
      ],
      "metadata": {
        "colab": {
          "base_uri": "https://localhost:8080/"
        },
        "id": "rJBPe8qgJRVq",
        "outputId": "e1a574d3-f325-4bf8-ec5c-c6402705b520"
      },
      "execution_count": 14,
      "outputs": [
        {
          "output_type": "stream",
          "name": "stdout",
          "text": [
            "('apple', 'kiwi', 'cherry')\n"
          ]
        }
      ]
    },
    {
      "cell_type": "markdown",
      "source": [
        "6. Write a function to demonstrate the behavior of mutable and immutable arguments."
      ],
      "metadata": {
        "id": "CR1ZhFVBJSmI"
      }
    },
    {
      "cell_type": "code",
      "source": [
        "food = ['eggs', 'milk', 'bread']\n",
        "food.append('yogurt')\n",
        "food"
      ],
      "metadata": {
        "id": "7uJbQzLdJXIu"
      },
      "execution_count": null,
      "outputs": []
    },
    {
      "cell_type": "markdown",
      "source": [
        "7. Write a program that performs basic arithmetic operations on two user-input numbers."
      ],
      "metadata": {
        "id": "SVTJi7clJYhT"
      }
    },
    {
      "cell_type": "code",
      "source": [
        "x=int(input(\"5:\"))\n",
        "y=int(input(\"8:\"))\n",
        "sum=x+y\n",
        "diff=x-y\n",
        "mult=x*y\n",
        "div=x/y\n",
        "print(\"Numbers are:\",x,y)\n",
        "print(\"sum=\",sum)\n",
        "print(\"difference=\",diff)\n",
        "print(\"product=\",mult)\n",
        "print(\"Division=\",div)"
      ],
      "metadata": {
        "colab": {
          "base_uri": "https://localhost:8080/"
        },
        "id": "7fVDes-xJcMs",
        "outputId": "dab61a6a-7b75-423d-c63b-5a8aa452e144"
      },
      "execution_count": 22,
      "outputs": [
        {
          "output_type": "stream",
          "name": "stdout",
          "text": [
            "5:8\n",
            "8:5\n",
            "Numbers are: 8 5\n",
            "sum= 13\n",
            "difference= 3\n",
            "product= 40\n",
            "Division= 1.6\n"
          ]
        }
      ]
    },
    {
      "cell_type": "markdown",
      "source": [
        "8. Write a program to demonstrate the use of logical operators."
      ],
      "metadata": {
        "id": "R2apf9NyJcuU"
      }
    },
    {
      "cell_type": "code",
      "source": [
        "x=8\n",
        "y=9\n",
        "\n",
        "print(x==8 or x<y or x==y)\n",
        "print(x==8 and x<y)"
      ],
      "metadata": {
        "colab": {
          "base_uri": "https://localhost:8080/"
        },
        "id": "3OiqUyd_JgzA",
        "outputId": "47f5c930-0a13-4043-8218-6c2fc6463c50"
      },
      "execution_count": 26,
      "outputs": [
        {
          "output_type": "stream",
          "name": "stdout",
          "text": [
            "True\n",
            "True\n"
          ]
        }
      ]
    },
    {
      "cell_type": "markdown",
      "source": [
        "9. Write a Python program to convert user input from string to integer, float, and boolean types."
      ],
      "metadata": {
        "id": "Uk8pBP7eJhYM"
      }
    },
    {
      "cell_type": "code",
      "source": [
        "s=\"55\"\n",
        "num=int(55)\n",
        "print(num)\n",
        "print(type(num))\n",
        "\n",
        "s=\"33.28\"\n",
        "num=float(33.28)\n",
        "print(num)\n",
        "print(type(num))\n",
        "\n",
        "s=\"true\"\n",
        "num=bool(s)\n",
        "print(num)\n",
        "print(type(num))"
      ],
      "metadata": {
        "colab": {
          "base_uri": "https://localhost:8080/"
        },
        "id": "xtIJEpwVJla6",
        "outputId": "81ca8882-1852-4fa1-b593-4097bccb9edb"
      },
      "execution_count": 33,
      "outputs": [
        {
          "output_type": "stream",
          "name": "stdout",
          "text": [
            "55\n",
            "<class 'int'>\n",
            "33.28\n",
            "<class 'float'>\n",
            "True\n",
            "<class 'bool'>\n"
          ]
        }
      ]
    },
    {
      "cell_type": "markdown",
      "source": [
        "10. Write code to demonstrate type casting with list elements."
      ],
      "metadata": {
        "id": "JxUCpEFvJmh9"
      }
    },
    {
      "cell_type": "code",
      "source": [],
      "metadata": {
        "id": "C1uWwZI4JsiW"
      },
      "execution_count": null,
      "outputs": []
    },
    {
      "cell_type": "markdown",
      "source": [
        "11. Write a program that checks if a number is positive, negative, or zero."
      ],
      "metadata": {
        "id": "9dcPhaP-JtFv"
      }
    },
    {
      "cell_type": "code",
      "source": [
        "num = float(input(\"enter a number:\"))\n",
        "if num>0:\n",
        "  print(\"positive number\")\n",
        "elif num == 0:\n",
        "    print(\"zero\")\n",
        "else:\n",
        " print(\"negative number\")"
      ],
      "metadata": {
        "colab": {
          "base_uri": "https://localhost:8080/"
        },
        "id": "C371Q8QfqPbv",
        "outputId": "8f4e1023-293d-42ce-fcb1-c0e1625ed0c6"
      },
      "execution_count": 40,
      "outputs": [
        {
          "output_type": "stream",
          "name": "stdout",
          "text": [
            "enter a number:7\n",
            "positive number\n"
          ]
        }
      ]
    },
    {
      "cell_type": "markdown",
      "source": [
        "12. Write a for loop to print numbers from 1 to 10."
      ],
      "metadata": {
        "id": "6apb_K9NJxGr"
      }
    },
    {
      "cell_type": "code",
      "source": [
        "for i in range(1, 11):\n",
        "  print(i)"
      ],
      "metadata": {
        "colab": {
          "base_uri": "https://localhost:8080/"
        },
        "id": "eOJ-TXMHJ1UD",
        "outputId": "284e7e2d-1146-42aa-f1be-907ab0c85250"
      },
      "execution_count": 34,
      "outputs": [
        {
          "output_type": "stream",
          "name": "stdout",
          "text": [
            "1\n",
            "2\n",
            "3\n",
            "4\n",
            "5\n",
            "6\n",
            "7\n",
            "8\n",
            "9\n",
            "10\n"
          ]
        }
      ]
    },
    {
      "cell_type": "markdown",
      "source": [
        "13. Write a Python program to find the sum of all even numbers between 1 and 50."
      ],
      "metadata": {
        "id": "jPAsytnbJ2RC"
      }
    },
    {
      "cell_type": "code",
      "source": [
        "i=1\n",
        "sum=0\n",
        "while(i<=50):\n",
        "  if(i%2==0):\n",
        "    sum=sum+i\n",
        "    i=i+1\n",
        "    print(\"sum of even numbers from 1 to 50\")"
      ],
      "metadata": {
        "id": "Lf1PJF8-J5v6"
      },
      "execution_count": null,
      "outputs": []
    },
    {
      "cell_type": "markdown",
      "source": [
        "14. Write a program to reverse a string using a while loop."
      ],
      "metadata": {
        "id": "QND10xUPJ6aq"
      }
    },
    {
      "cell_type": "code",
      "source": [
        "name=str(input(\"enter the name:\"))\n",
        "i = len(name)-1\n",
        "\n",
        "while i>=0:\n",
        "  print(name[i], end = '')\n",
        "  i=i-1"
      ],
      "metadata": {
        "colab": {
          "base_uri": "https://localhost:8080/"
        },
        "id": "Pa0zVqN8J93T",
        "outputId": "938f9a06-a572-47ca-8677-55fd35ebe38b"
      },
      "execution_count": 45,
      "outputs": [
        {
          "output_type": "stream",
          "name": "stdout",
          "text": [
            "enter the name:kavya\n",
            "ayvak"
          ]
        }
      ]
    },
    {
      "cell_type": "markdown",
      "source": [
        "15. Write a Python program to calculate the factorial of a number provided by the user using a while loop"
      ],
      "metadata": {
        "id": "BA6Jwmc2J-XQ"
      }
    },
    {
      "cell_type": "code",
      "source": [
        "\n",
        "fact=1\n",
        "i=1\n",
        "num=int(input(\"enter a number:\"))\n",
        "while i<=num:\n",
        "    fact=fact*i\n",
        "    i=i+1\n",
        "    print(\"the factorial of\", num, \"its\", fact)"
      ],
      "metadata": {
        "colab": {
          "base_uri": "https://localhost:8080/"
        },
        "id": "wjrnR9j_KB4h",
        "outputId": "2c391128-8f75-4042-8701-a6d9f846412c"
      },
      "execution_count": 48,
      "outputs": [
        {
          "output_type": "stream",
          "name": "stdout",
          "text": [
            "enter a number:6\n",
            "the factorial of 6 its 1\n",
            "the factorial of 6 its 2\n",
            "the factorial of 6 its 6\n",
            "the factorial of 6 its 24\n",
            "the factorial of 6 its 120\n",
            "the factorial of 6 its 720\n"
          ]
        }
      ]
    }
  ]
}